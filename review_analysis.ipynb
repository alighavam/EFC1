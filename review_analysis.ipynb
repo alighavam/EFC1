{
 "cells": [
  {
   "cell_type": "code",
   "execution_count": null,
   "metadata": {},
   "outputs": [],
   "source": [
    "! pip install pandas\n",
    "! pip install numpy\n",
    "! pip install matplotlib\n",
    "! pip install seaborn\n",
    "! pip install scipy"
   ]
  },
  {
   "cell_type": "code",
   "execution_count": 1,
   "metadata": {},
   "outputs": [],
   "source": [
    "import pandas as pd\n",
    "import numpy as np\n",
    "import matplotlib.pyplot as plt\n",
    "import seaborn as sns\n",
    "import matplotlib.colors as mcolors\n",
    "from scipy.stats import pearsonr\n",
    "from scipy.stats import ttest_ind\n",
    "from scipy.stats import ttest_rel"
   ]
  },
  {
   "cell_type": "markdown",
   "metadata": {},
   "source": [
    "## trial-by-trial Corr ET-MD, Experiment 1"
   ]
  },
  {
   "cell_type": "code",
   "execution_count": 84,
   "metadata": {},
   "outputs": [
    {
     "name": "stdout",
     "output_type": "stream",
     "text": [
      "MD-ET correlation: 0.653 +/- 0.041\n"
     ]
    }
   ],
   "source": [
    "# load the data:\n",
    "D = pd.read_table('/Users/alighavampour/Desktop/Projects/EFC2/analysis/efc1_all.tsv')\n",
    "D['RT'] = D['RT'].astype('float64')/1000\n",
    "D['ET'] = D['ET'].astype('float64')/1000\n",
    "D['MD'] = D['MD'].astype('float64')\n",
    "D = D[(D.trialCorr==1)]\n",
    "sn_list = D.sn.unique()\n",
    "\n",
    "rho = []\n",
    "for sn in sn_list:\n",
    "    D_sn = D[D.sn==sn]\n",
    "    r, p = pearsonr(D_sn['ET'], D_sn['MD'])\n",
    "    rho.append(r)\n",
    "\n",
    "print(f'MD-ET correlation: {np.mean(rho):.3f} +/- {np.std(rho):.3f}')"
   ]
  },
  {
   "cell_type": "markdown",
   "metadata": {},
   "source": [
    "## trial-by-trial  Corr ET-MD, Experiment 2"
   ]
  },
  {
   "cell_type": "code",
   "execution_count": 69,
   "metadata": {},
   "outputs": [
    {
     "name": "stdout",
     "output_type": "stream",
     "text": [
      "MD-ET correlation: 0.650 +/- 0.065\n"
     ]
    }
   ],
   "source": [
    "# load the data:\n",
    "D = pd.read_csv('/Users/alighavampour/Desktop/Projects/EFC2/analysis/efc2_all.csv')\n",
    "D = D[(D.trial_correct==1) & (D.trained==1)]\n",
    "D['ET'] = D['ET'].astype('float64')/1000\n",
    "D['MD'] = D['MD'].astype('float64')\n",
    "sn_list = D.sn.unique()\n",
    "\n",
    "rho = []\n",
    "for sn in sn_list:\n",
    "    D_sn = D[D.sn==sn]\n",
    "    r, p = pearsonr(D_sn['ET'], D_sn['MD'])\n",
    "    rho.append(r)\n",
    "\n",
    "print(f'MD-ET correlation: {np.mean(rho):.3f} +/- {np.std(rho):.3f}')"
   ]
  },
  {
   "cell_type": "markdown",
   "metadata": {},
   "source": [
    "## Corr ET-MD across chords Experiment 1"
   ]
  },
  {
   "cell_type": "code",
   "execution_count": 85,
   "metadata": {},
   "outputs": [
    {
     "name": "stdout",
     "output_type": "stream",
     "text": [
      "MD-ET correlation: 0.820 +/- 0.052\n"
     ]
    }
   ],
   "source": [
    "# load the data:\n",
    "D = pd.read_table('/Users/alighavampour/Desktop/Projects/EFC2/analysis/efc1_all.tsv')\n",
    "D['RT'] = D['RT'].astype('float64')/1000\n",
    "D['ET'] = D['ET'].astype('float64')/1000\n",
    "D['MD'] = D['MD'].astype('float64')\n",
    "D = D[(D.trialCorr==1) & (D.sess>=3)]\n",
    "\n",
    "D = D.groupby(['sn','chordID']).mean().reset_index()\n",
    "sn_list = D.sn.unique()\n",
    "\n",
    "rho = []\n",
    "for sn in sn_list:\n",
    "    D_sn = D[D.sn==sn]\n",
    "    r, p = pearsonr(D_sn['ET'], D_sn['MD'])\n",
    "    rho.append(r)\n",
    "\n",
    "print(f'MD-ET correlation: {np.mean(rho):.3f} +/- {np.std(rho):.3f}')"
   ]
  },
  {
   "cell_type": "markdown",
   "metadata": {},
   "source": [
    "## Reaction time 242 chords"
   ]
  },
  {
   "cell_type": "code",
   "execution_count": 64,
   "metadata": {},
   "outputs": [
    {
     "name": "stdout",
     "output_type": "stream",
     "text": [
      "s1, median RT: 0.31s\n",
      "s2, median RT: 0.56s\n",
      "s3, median RT: 0.28s\n",
      "s4, median RT: 0.35s\n",
      "s5, median RT: 0.46s\n",
      "s6, median RT: 0.33s\n",
      "s7, median RT: 0.51s\n",
      "s8, median RT: 0.58s\n",
      "s9, median RT: 0.56s\n",
      "s10, median RT: 0.28s\n",
      "s11, median RT: 0.32s\n",
      "s15, median RT: 0.27s\n",
      "s16, median RT: 0.41s\n",
      "s17, median RT: 0.22s\n",
      "median RT: 0.34s\n",
      "\n",
      "RT day 1: 0.47 +/- 0.030\n",
      "RT day 4: 0.32 +/- 0.033\n",
      "t-test: t(13)=6.53, p=1.899e-05\n",
      "\n",
      "MT day 1: 2.22 +/- 0.177\n",
      "MT day 4: 1.22 +/- 0.102\n",
      "t-test: t(13)=7.10, p=8.046e-06\n"
     ]
    }
   ],
   "source": [
    "# load the data:\n",
    "D = pd.read_table('/Users/alighavampour/Desktop/Projects/EFC2/analysis/efc1_all.tsv')\n",
    "D['RT'] = D['RT'].astype('float64')/1000\n",
    "D = D.iloc[::5] # only look at first repetition\n",
    "D = D[(D.trialCorr==1)]\n",
    "sn_list = D.sn.unique()\n",
    "\n",
    "medians = []\n",
    "for sn in sn_list:\n",
    "    print(f's{sn}, median RT: {D[D.sn==sn].RT.median():.2f}s')\n",
    "    medians.append(D[D.sn==sn].RT.median())\n",
    "print(f'median RT: {np.median(medians):.2f}s')\n",
    "print()\n",
    "\n",
    "# RT improvement from day 1 to day 4:\n",
    "D = pd.read_table('/Users/alighavampour/Desktop/Projects/EFC2/analysis/efc1_all.tsv')\n",
    "D['RT'] = D['RT'].astype('float64')/1000\n",
    "D['MT'] = D['MT'].astype('float64')/1000\n",
    "D = D.iloc[::5] # only look at first repetition\n",
    "D1 = D[(D.trialCorr==1) & (D.sess==1)]\n",
    "D4 = D[(D.trialCorr==1) & (D.sess==4)]\n",
    "sn_list = D.sn.unique()\n",
    "\n",
    "RT_day1 = []\n",
    "RT_day4 = []\n",
    "MT_day1 = []\n",
    "MT_day4 = []\n",
    "for sn in sn_list:\n",
    "    RT_day1.append(D1[D1.sn==sn].RT.median())\n",
    "    RT_day4.append(D4[D4.sn==sn].RT.median())\n",
    "    MT_day1.append(D1[D1.sn==sn].MT.median())\n",
    "    MT_day4.append(D4[D4.sn==sn].MT.median())\n",
    "\n",
    "# t-test:\n",
    "t,p = ttest_rel(RT_day1, RT_day4)\n",
    "print(f'RT day 1: {np.median(RT_day1):.2f} +/- {np.std(RT_day1)/np.sqrt(len(RT_day1)):.3f}')\n",
    "print(f'RT day 4: {np.median(RT_day4):.2f} +/- {np.std(RT_day4)/np.sqrt(len(RT_day4)):.3f}')\n",
    "print(f't-test: t({len(RT_day1)-1})={t:.2f}, p={p:.3e}')\n",
    "print()\n",
    "t,p = ttest_rel(MT_day1, MT_day4)\n",
    "print(f'MT day 1: {np.median(MT_day1):.2f} +/- {np.std(MT_day1)/np.sqrt(len(MT_day1)):.3f}')\n",
    "print(f'MT day 4: {np.median(MT_day4):.2f} +/- {np.std(MT_day4)/np.sqrt(len(MT_day4)):.3f}')\n",
    "print(f't-test: t({len(MT_day1)-1})={t:.2f}, p={p:.3e}')\n",
    "\n"
   ]
  },
  {
   "cell_type": "markdown",
   "metadata": {},
   "source": [
    "## Corr RT-MT, Experiment 1"
   ]
  },
  {
   "cell_type": "code",
   "execution_count": 79,
   "metadata": {},
   "outputs": [
    {
     "name": "stdout",
     "output_type": "stream",
     "text": [
      "RT-MT correlation: 0.20\n"
     ]
    }
   ],
   "source": [
    "# Correlation between RT and MT:\n",
    "D = pd.read_table('/Users/alighavampour/Desktop/Projects/EFC2/analysis/efc1_all.tsv')\n",
    "D['RT'] = D['RT'].astype('float64')/1000\n",
    "D['MT'] = D['MT'].astype('float64')/1000\n",
    "D = D.iloc[::5] # only look at first repetition\n",
    "D = D[(D.trialCorr==1)]\n",
    "\n",
    "D = D.groupby(['sn','chordID']).agg(\n",
    "    RT=('RT', 'median'),\n",
    "    ET=('ET', 'median'),\n",
    "    MT=('MT', 'median'),\n",
    ").reset_index()\n",
    "\n",
    "sn_list = D.sn.unique()\n",
    "rho = []\n",
    "for sn in sn_list:\n",
    "    D_sn = D[D.sn==sn]\n",
    "    r, p = pearsonr(D_sn['RT'], D_sn['MT'])\n",
    "    rho.append(r)\n",
    "\n",
    "print(f'RT-MT correlation: {np.mean(rho):.2f}')\n"
   ]
  },
  {
   "cell_type": "markdown",
   "metadata": {},
   "source": [
    "## Reaction time Experiment 2"
   ]
  },
  {
   "cell_type": "code",
   "execution_count": 83,
   "metadata": {},
   "outputs": [
    {
     "name": "stdout",
     "output_type": "stream",
     "text": [
      "median RT: 0.39s, range: (np.float64(0.292), np.float64(0.488))\n",
      "RT day 1: 0.47 +/- 0.020\n",
      "RT day 4: 0.38 +/- 0.014\n",
      "t-test: t(13)=4.89, p=2.944e-04\n",
      "\n",
      "MT day 1: 1.61 +/- 0.148\n",
      "MT day 4: 0.35 +/- 0.071\n",
      "t-test: t(13)=11.81, p=2.533e-08\n"
     ]
    }
   ],
   "source": [
    "# load the data:\n",
    "D = pd.read_csv('/Users/alighavampour/Desktop/Projects/EFC2/analysis/efc2_all.csv')\n",
    "D['RT'] = D['RT'].astype('float64')/1000\n",
    "D = D[(D.trial_correct==1) & (D.trained==1)]\n",
    "sn_list = D.sn.unique()\n",
    "\n",
    "medians = []\n",
    "for sn in sn_list:\n",
    "    medians.append(D[D.sn==sn].RT.median())\n",
    "\n",
    "median_RT = np.median(medians)\n",
    "range = (np.min(medians), np.max(medians))\n",
    "print(f'median RT: {median_RT:.2f}s, range: {range}')\n",
    "\n",
    "\n",
    "# RT and MT improvement from day 1 to day 5:\n",
    "D = pd.read_csv('/Users/alighavampour/Desktop/Projects/EFC2/analysis/efc2_all.csv')\n",
    "D['RT'] = D['RT'].astype('float64')/1000\n",
    "D['ET'] = D['ET'].astype('float64')/1000\n",
    "D['MT'] = D['ET'] - D['RT']\n",
    "D = D[D.trained==1]\n",
    "\n",
    "D1 = D[(D.trial_correct==1) & (D.day==1)]\n",
    "D5 = D[(D.trial_correct==1) & (D.day==5)]\n",
    "sn_list = D.sn.unique()\n",
    "\n",
    "RT_day1 = []\n",
    "RT_day5 = []\n",
    "MT_day1 = []\n",
    "MT_day5 = []\n",
    "for sn in sn_list:\n",
    "    RT_day1.append(D1[D1.sn==sn].RT.median())\n",
    "    RT_day5.append(D5[D5.sn==sn].RT.median())\n",
    "    MT_day1.append(D1[D1.sn==sn].MT.median())\n",
    "    MT_day5.append(D5[D5.sn==sn].MT.median())\n",
    "\n",
    "# t-test:\n",
    "t,p = ttest_rel(RT_day1, RT_day5)\n",
    "print(f'RT day 1: {np.median(RT_day1):.2f} +/- {np.std(RT_day1)/np.sqrt(len(RT_day1)):.3f}')\n",
    "print(f'RT day 4: {np.median(RT_day5):.2f} +/- {np.std(RT_day5)/np.sqrt(len(RT_day5)):.3f}')\n",
    "print(f't-test: t({len(RT_day1)-1})={t:.2f}, p={p:.3e}')\n",
    "print()\n",
    "t,p = ttest_rel(MT_day1, MT_day5)\n",
    "print(f'MT day 1: {np.median(MT_day1):.2f} +/- {np.std(MT_day1)/np.sqrt(len(MT_day1)):.3f}')\n",
    "print(f'MT day 4: {np.median(MT_day5):.2f} +/- {np.std(MT_day5)/np.sqrt(len(MT_day5)):.3f}')\n",
    "print(f't-test: t({len(MT_day1)-1})={t:.2f}, p={p:.3e}')\n",
    "\n"
   ]
  },
  {
   "cell_type": "markdown",
   "metadata": {},
   "source": [
    "## Corr RT-MT, Experiment 2:"
   ]
  },
  {
   "cell_type": "code",
   "execution_count": 78,
   "metadata": {},
   "outputs": [
    {
     "name": "stdout",
     "output_type": "stream",
     "text": [
      "RT-MT correlation: 0.467\n"
     ]
    }
   ],
   "source": [
    "# Correlation between RT and MT:\n",
    "D = pd.read_csv('/Users/alighavampour/Desktop/Projects/EFC2/analysis/efc2_all.csv')\n",
    "D['RT'] = D['RT'].astype('float64')/1000\n",
    "D['ET'] = D['ET'].astype('float64')/1000\n",
    "D['MT'] = D['ET'] - D['RT']\n",
    "D = D[(D.trial_correct==1) & (D.trained==1)]\n",
    "\n",
    "D = D.groupby(['sn','chordID']).agg(\n",
    "    RT=('RT', 'median'),\n",
    "    ET=('ET', 'median'),\n",
    "    MT=('MT', 'median'),\n",
    ").reset_index()\n",
    "\n",
    "sn_list = D.sn.unique()\n",
    "rho = []\n",
    "for sn in sn_list:\n",
    "    D_sn = D[D.sn==sn]\n",
    "    r, p = pearsonr(D_sn['RT'], D_sn['MT'])\n",
    "    rho.append(r)\n",
    "\n",
    "print(f'RT-MT correlation: {np.mean(rho):.3f}')\n"
   ]
  },
  {
   "cell_type": "markdown",
   "metadata": {},
   "source": [
    "## EFC1 Reliability"
   ]
  },
  {
   "cell_type": "markdown",
   "metadata": {},
   "source": [
    "### cross-validated group correlation"
   ]
  },
  {
   "cell_type": "code",
   "execution_count": 319,
   "metadata": {},
   "outputs": [
    {
     "name": "stderr",
     "output_type": "stream",
     "text": [
      "/var/folders/5y/1pn48fgn7yb77gc17h_5jms80000gp/T/ipykernel_73330/3298570309.py:54: UserWarning: set_ticklabels() should only be used with a fixed number of ticks, i.e. after set_ticks() or using a FixedLocator.\n",
      "  ax.set_xticklabels([1,2,3,4])\n"
     ]
    },
    {
     "data": {
      "image/png": "[encoded data removed]",
      "text/plain": [
       "<Figure size 140x140 with 1 Axes>"
      ]
     },
     "metadata": {},
     "output_type": "display_data"
    }
   ],
   "source": [
    "# load the data:\n",
    "D = pd.read_table('/Users/alighavampour/Desktop/Projects/EFC1/analysis/efc1_chord.tsv')\n",
    "D['MD'] = D['MD'].astype('float64')\n",
    "D['ET'] = D['ET'].astype('float64')\n",
    "# days = D['sess'].unique()\n",
    "sn_list = D.sn.unique()\n",
    "\n",
    "day_vec = []\n",
    "sn_vec = []\n",
    "r = []\n",
    "# loop on participants:\n",
    "for sn in sn_list:\n",
    "    # loop on days:\n",
    "    for day in [1,2,3,4]:\n",
    "        D_sn = D[(D.sn == sn) & (D.sess == day)]\n",
    "        \n",
    "        # Get the MD values for this subject and day, grouped by chordID\n",
    "        subject_md = D_sn.groupby('chordID')['MD'].mean().values.flatten()\n",
    "        \n",
    "        # Get MD values for all other subjects on the same day\n",
    "        D_not_sn = D[(D.sn != sn) & (D.sess == day)]\n",
    "        group_mean = D_not_sn.groupby('chordID')['MD'].mean().values.flatten()\n",
    "\n",
    "        nas = np.logical_or(np.isnan(subject_md), np.isnan(group_mean))\n",
    "        subject_md = subject_md[~nas]\n",
    "        group_mean = group_mean[~nas]\n",
    "        \n",
    "        # Now both series have the same index in the same order\n",
    "        r.append(pearsonr(subject_md, group_mean)[0])\n",
    "        day_vec.append(day)\n",
    "        sn_vec.append(sn)\n",
    "\n",
    "df = pd.DataFrame(columns=['sn','r','day'])\n",
    "df['sn'] = sn_vec\n",
    "df['r'] = r\n",
    "df['day'] = day_vec\n",
    "\n",
    "# box plot correlations:\n",
    "plt.rcParams.update({\n",
    "    'font.size': 8,                 # Default text size\n",
    "    'axes.titlesize': 8,            # Title size\n",
    "    'axes.labelsize': 8,            # Axis label size\n",
    "    'xtick.labelsize': 8,           # X-tick label size\n",
    "    'ytick.labelsize': 8,           # Y-tick label size\n",
    "    'legend.fontsize': 8,           # Legend font size\n",
    "    'figure.titlesize': 8           # Figure title size\n",
    "})\n",
    "\n",
    "fig, ax = plt.subplots(figsize=(1.4, 1.4))\n",
    "sns.boxplot(data=df, x='day', y='r', width=0.4, fill=False, linewidth=1, color='black', fliersize=0, showcaps=False)\n",
    "plt.title('MD Reliability')\n",
    "plt.xlabel('day')\n",
    "plt.ylim((0,1.05))\n",
    "ax.set_xticklabels([1,2,3,4])\n",
    "\n",
    "xlim = ax.get_xlim()\n",
    "ylim = ax.get_ylim()\n",
    "sns.despine(ax=ax)\n",
    "# Set the bounds of the remaining spines to match the data limits\n",
    "ax.spines['left'].set_bounds(0, 1)\n",
    "ax.spines['bottom'].set_bounds(0,3)\n",
    "plt.savefig('/Users/alighavampour/Desktop/Projects/EFC1/figures/efc1_MD_reliability.pdf', bbox_inches='tight')\n",
    "plt.show()"
   ]
  },
  {
   "cell_type": "markdown",
   "metadata": {},
   "source": [
    "### pariwise subject correlation"
   ]
  },
  {
   "cell_type": "code",
   "execution_count": 386,
   "metadata": {},
   "outputs": [
    {
     "name": "stderr",
     "output_type": "stream",
     "text": [
      "/var/folders/5y/1pn48fgn7yb77gc17h_5jms80000gp/T/ipykernel_73330/3763914209.py:44: UserWarning: set_ticklabels() should only be used with a fixed number of ticks, i.e. after set_ticks() or using a FixedLocator.\n",
      "  ax.set_xticklabels([1,2,3,4])\n"
     ]
    },
    {
     "data": {
      "image/png": "[encoded data removed]",
      "text/plain": [
       "<Figure size 140x140 with 1 Axes>"
      ]
     },
     "metadata": {},
     "output_type": "display_data"
    }
   ],
   "source": [
    "# load the data:\n",
    "D = pd.read_table('/Users/alighavampour/Desktop/Projects/EFC1/analysis/efc1_chord.tsv')\n",
    "D['MD'] = D['MD'].astype('float64')\n",
    "D['ET'] = D['ET'].astype('float64')\n",
    "# days = D['sess'].unique()\n",
    "sn_list = D.sn.unique()\n",
    "\n",
    "r_vec = []\n",
    "day_vec = []\n",
    "for day in [1,2,3,4]:\n",
    "    data = []\n",
    "    for sn in sn_list:\n",
    "        D_sn = D[(D.sn == sn) & (D.sess == day)]\n",
    "\n",
    "        # Get the MD values for this subject and day, grouped by chordID\n",
    "        subject_md = D_sn.groupby('chordID')['MD'].mean().values.flatten()\n",
    "\n",
    "        data.append(subject_md)\n",
    "    data = np.column_stack(data)\n",
    "    df = pd.DataFrame(data)\n",
    "    correlation_matrix = df.corr().to_numpy()\n",
    "\n",
    "    # get the upper triangle of the correlation matrix:\n",
    "    correlation_vec = correlation_matrix[np.triu_indices(np.shape(correlation_matrix)[0], k=1)]\n",
    "    r_vec.extend(correlation_vec)\n",
    "    day_vec.extend(np.repeat(day, len(correlation_vec)))\n",
    "\n",
    "# box plot\n",
    "plt.rcParams.update({\n",
    "    'font.size': 8,                 # Default text size\n",
    "    'axes.titlesize': 8,            # Title size\n",
    "    'axes.labelsize': 8,            # Axis label size\n",
    "    'xtick.labelsize': 8,           # X-tick label size\n",
    "    'ytick.labelsize': 8,           # Y-tick label size\n",
    "    'legend.fontsize': 8,           # Legend font size\n",
    "    'figure.titlesize': 8           # Figure title size\n",
    "})\n",
    "\n",
    "fig, ax = plt.subplots(figsize=(1.4, 1.4))\n",
    "sns.boxplot(x=day_vec, y=r_vec, width=0.4, fill=False, linewidth=1, color='black', fliersize=0, showcaps=False)\n",
    "plt.title('MD Reliability')\n",
    "plt.xlabel('day')\n",
    "plt.ylim((0,1.05))\n",
    "ax.set_xticklabels([1,2,3,4])\n",
    "\n",
    "xlim = ax.get_xlim()\n",
    "ylim = ax.get_ylim()\n",
    "sns.despine(ax=ax)\n",
    "# Set the bounds of the remaining spines to match the data limits\n",
    "ax.spines['left'].set_bounds(0, 1)\n",
    "ax.spines['bottom'].set_bounds(0,3)\n",
    "plt.savefig('/Users/alighavampour/Desktop/Projects/EFC1/figures/efc1_MD_reliability.pdf', bbox_inches='tight')\n",
    "plt.show()"
   ]
  },
  {
   "cell_type": "code",
   "execution_count": 320,
   "metadata": {},
   "outputs": [
    {
     "name": "stderr",
     "output_type": "stream",
     "text": [
      "/var/folders/5y/1pn48fgn7yb77gc17h_5jms80000gp/T/ipykernel_73330/2447946588.py:54: UserWarning: set_ticklabels() should only be used with a fixed number of ticks, i.e. after set_ticks() or using a FixedLocator.\n",
      "  ax.set_xticklabels([1,2,3,4])\n"
     ]
    },
    {
     "data": {
      "image/png": "[encoded data removed]",
      "text/plain": [
       "<Figure size 140x140 with 1 Axes>"
      ]
     },
     "metadata": {},
     "output_type": "display_data"
    }
   ],
   "source": [
    "# load the data:\n",
    "D = pd.read_table('/Users/alighavampour/Desktop/Projects/EFC1/analysis/efc1_chord.tsv')\n",
    "D['MD'] = D['MD'].astype('float64')\n",
    "D['ET'] = D['ET'].astype('float64')\n",
    "# days = D['sess'].unique()\n",
    "sn_list = D.sn.unique()\n",
    "\n",
    "day_vec = []\n",
    "sn_vec = []\n",
    "r = []\n",
    "# loop on participants:\n",
    "for sn in sn_list:\n",
    "    # loop on days:\n",
    "    for day in [1,2,3,4]:\n",
    "        D_sn = D[(D.sn == sn) & (D.sess == day)]\n",
    "        \n",
    "        # Get the ET values for this subject and day, grouped by chordID\n",
    "        subject_md = D_sn.groupby('chordID')['ET'].mean().values.flatten()\n",
    "        \n",
    "        # Get ET values for all other subjects on the same day\n",
    "        D_not_sn = D[(D.sn != sn) & (D.sess == day)]\n",
    "        group_mean = D_not_sn.groupby('chordID')['ET'].mean().values.flatten()\n",
    "        \n",
    "        nas = np.logical_or(np.isnan(subject_md), np.isnan(group_mean))\n",
    "        subject_md = subject_md[~nas]\n",
    "        group_mean = group_mean[~nas]\n",
    "\n",
    "        # Now both series have the same index in the same order\n",
    "        r.append(pearsonr(subject_md, group_mean)[0])\n",
    "        day_vec.append(day)\n",
    "        sn_vec.append(sn)\n",
    "\n",
    "df = pd.DataFrame(columns=['sn','r','day'])\n",
    "df['sn'] = sn_vec\n",
    "df['r'] = r\n",
    "df['day'] = day_vec\n",
    "\n",
    "# box plot correlations:\n",
    "plt.rcParams.update({\n",
    "    'font.size': 8,                 # Default text size\n",
    "    'axes.titlesize': 8,            # Title size\n",
    "    'axes.labelsize': 8,            # Axis label size\n",
    "    'xtick.labelsize': 8,           # X-tick label size\n",
    "    'ytick.labelsize': 8,           # Y-tick label size\n",
    "    'legend.fontsize': 8,           # Legend font size\n",
    "    'figure.titlesize': 8           # Figure title size\n",
    "})\n",
    "\n",
    "fig, ax = plt.subplots(figsize=(1.4, 1.4))\n",
    "sns.boxplot(data=df, x='day', y='r', width=0.4, fill=False, linewidth=1, color='black', fliersize=0, showcaps=False)\n",
    "plt.title('ET Reliability')\n",
    "plt.xlabel('day')\n",
    "plt.ylim((0,1.05))\n",
    "ax.set_xticklabels([1,2,3,4])\n",
    "\n",
    "xlim = ax.get_xlim()\n",
    "ylim = ax.get_ylim()\n",
    "sns.despine(ax=ax)\n",
    "# Set the bounds of the remaining spines to match the data limits\n",
    "ax.spines['left'].set_bounds(0, 1)\n",
    "ax.spines['bottom'].set_bounds(0,3)\n",
    "plt.savefig('/Users/alighavampour/Desktop/Projects/EFC1/figures/efc1_ET_reliability.pdf', bbox_inches='tight')\n",
    "plt.show()"
   ]
  },
  {
   "cell_type": "markdown",
   "metadata": {},
   "source": [
    "## Experiment 3 reliability"
   ]
  },
  {
   "cell_type": "code",
   "execution_count": 330,
   "metadata": {},
   "outputs": [
    {
     "name": "stdout",
     "output_type": "stream",
     "text": [
      "MD avg correlation: 0.86\n",
      "MD sem correlation: 0.01, len(r): 10\n"
     ]
    }
   ],
   "source": [
    "# load the data:\n",
    "D = pd.read_table('/Users/alighavampour/Desktop/Projects/EFC_natChord/analysis/natChord_chord.tsv')\n",
    "D['MD'] = D['MD'].astype('float64')\n",
    "D['ET'] = D['MT'].astype('float64') + D['RT'].astype('float64')\n",
    "# days = D['sess'].unique()\n",
    "sn_list = D.sn.unique()\n",
    "\n",
    "day_vec = []\n",
    "sn_vec = []\n",
    "r = []\n",
    "# loop on participants:\n",
    "for sn in sn_list:\n",
    "    # loop on days:\n",
    "    for day in [1]:\n",
    "        D_sn = D[(D.sn == sn) & (D.sess == day)]\n",
    "        \n",
    "        # Get the MD values for this subject and day, grouped by chordID\n",
    "        subject_md = D_sn.groupby('chordID')['MD'].mean().values.flatten()\n",
    "        \n",
    "        # Get MD values for all other subjects on the same day\n",
    "        D_not_sn = D[(D.sn != sn) & (D.sess == day)]\n",
    "        group_mean = D_not_sn.groupby('chordID')['MD'].mean().values.flatten()\n",
    "\n",
    "        nas = np.logical_or(np.isnan(subject_md), np.isnan(group_mean))\n",
    "        subject_md = subject_md[~nas]\n",
    "        group_mean = group_mean[~nas]\n",
    "        \n",
    "        # Now both series have the same index in the same order\n",
    "        r.append(pearsonr(subject_md, group_mean)[0])\n",
    "        day_vec.append(day)\n",
    "        sn_vec.append(sn)\n",
    "\n",
    "df = pd.DataFrame(columns=['sn','r','day'])\n",
    "df['sn'] = sn_vec\n",
    "df['r'] = r\n",
    "df['day'] = day_vec\n",
    "\n",
    "# avg correlation:\n",
    "print(f'MD avg correlation: {np.mean(r):.2f}')\n",
    "print(f'MD sem correlation: {np.std(r)/np.sqrt(len(r)):.2f}, len(r): {len(r)}')\n"
   ]
  },
  {
   "cell_type": "code",
   "execution_count": 332,
   "metadata": {},
   "outputs": [
    {
     "name": "stdout",
     "output_type": "stream",
     "text": [
      "ET avg correlation: 0.69\n",
      "ET sem correlation: 0.01, len(r): 10\n"
     ]
    }
   ],
   "source": [
    "# load the data:\n",
    "D = pd.read_table('/Users/alighavampour/Desktop/Projects/EFC_natChord/analysis/natChord_chord.tsv')\n",
    "D['MD'] = D['MD'].astype('float64')\n",
    "D['ET'] = D['MT'].astype('float64') + D['RT'].astype('float64')\n",
    "# days = D['sess'].unique()\n",
    "sn_list = D.sn.unique()\n",
    "\n",
    "day_vec = []\n",
    "sn_vec = []\n",
    "r = []\n",
    "# loop on participants:\n",
    "for sn in sn_list:\n",
    "    # loop on days:\n",
    "    for day in [1]:\n",
    "        D_sn = D[(D.sn == sn) & (D.sess == day)]\n",
    "        \n",
    "        # Get the Et values for this subject and day, grouped by chordID\n",
    "        subject_md = D_sn.groupby('chordID')['ET'].mean().values.flatten()\n",
    "        \n",
    "        # Get Et values for all other subjects on the same day\n",
    "        D_not_sn = D[(D.sn != sn) & (D.sess == day)]\n",
    "        group_mean = D_not_sn.groupby('chordID')['ET'].mean().values.flatten()\n",
    "\n",
    "        nas = np.logical_or(np.isnan(subject_md), np.isnan(group_mean))\n",
    "        subject_md = subject_md[~nas]\n",
    "        group_mean = group_mean[~nas]\n",
    "        \n",
    "        # Now both series have the same index in the same order\n",
    "        r.append(pearsonr(subject_md, group_mean)[0])\n",
    "        day_vec.append(day)\n",
    "        sn_vec.append(sn)\n",
    "\n",
    "df = pd.DataFrame(columns=['sn','r','day'])\n",
    "df['sn'] = sn_vec\n",
    "df['r'] = r\n",
    "df['day'] = day_vec\n",
    "\n",
    "# avg correlation:\n",
    "print(f'ET avg correlation: {np.mean(r):.2f}')\n",
    "print(f'ET sem correlation: {np.std(r)/np.sqrt(len(r)):.2f}, len(r): {len(r)}')\n"
   ]
  },
  {
   "cell_type": "markdown",
   "metadata": {},
   "source": [
    "## Sex differences"
   ]
  },
  {
   "cell_type": "markdown",
   "metadata": {},
   "source": [
    "### Experiment 1"
   ]
  },
  {
   "cell_type": "code",
   "execution_count": 25,
   "metadata": {},
   "outputs": [
    {
     "name": "stdout",
     "output_type": "stream",
     "text": [
      "MD, t=-0.19, p=0.85\n",
      "ET, t=-1.76, p=0.08\n"
     ]
    },
    {
     "data": {
      "image/png": "[encoded data removed]",
      "text/plain": [
       "<Figure size 690.875x160 with 4 Axes>"
      ]
     },
     "metadata": {},
     "output_type": "display_data"
    },
    {
     "data": {
      "image/png": "[encoded data removed]",
      "text/plain": [
       "<Figure size 690.875x160 with 4 Axes>"
      ]
     },
     "metadata": {},
     "output_type": "display_data"
    }
   ],
   "source": [
    "# load the data:\n",
    "D = pd.read_table('/Users/alighavampour/Desktop/Projects/EFC1/analysis/efc1_chord.tsv')\n",
    "D['MD'] = D['MD'].astype('float64')\n",
    "D['ET'] = D['ET'].astype('float64')/1000\n",
    "\n",
    "sn_list = D.sn.unique()\n",
    "male = [1,2,4,5,9,10,15]\n",
    "female = [3,6,7,8,11,16,17]\n",
    "\n",
    "D['sex'] = np.where(D['sn'].isin(female), 'f', 'm')\n",
    "\n",
    "# distribution plot male vs female:\n",
    "plt.rcParams.update({\n",
    "    'font.size': 9,                 # Default text size\n",
    "    'axes.titlesize': 9,            # Title size\n",
    "    'axes.labelsize': 9,            # Axis label size\n",
    "    'xtick.labelsize': 8,           # X-tick label size\n",
    "    'ytick.labelsize': 8,           # Y-tick label size\n",
    "    'legend.fontsize': 8,           # Legend font size\n",
    "    'figure.titlesize': 9           # Figure title size\n",
    "})\n",
    "\n",
    "cmap = plt.get_cmap('Paired')\n",
    "sns.displot(data=D, x=\"MD\", hue=\"sex\", col='sess', kde=True, stat='percent', height=1.6, palette=[mcolors.to_hex(cmap(3)), mcolors.to_hex(cmap(9))])\n",
    "plt.xlabel('MD[N]')\n",
    "plt.savefig(f'/Users/alighavampour/Desktop/Projects/EFC1/figures/efc1_MD_mf.pdf')\n",
    "\n",
    "cmap = plt.get_cmap('Paired')\n",
    "sns.displot(data=D, x=\"ET\", hue=\"sex\", col='sess', kde=True, stat='percent', height=1.6, palette=[mcolors.to_hex(cmap(3)), mcolors.to_hex(cmap(9))])\n",
    "plt.xlabel('ET[s]')\n",
    "plt.savefig(f'/Users/alighavampour/Desktop/Projects/EFC1/figures/efc1_ET_mf.pdf')\n",
    "\n",
    "# average across chords:\n",
    "df_gp = D.groupby(['sn','sess'], as_index=False).agg({\n",
    "    'MD': 'mean',\n",
    "    'ET': 'mean',\n",
    "    'sex': 'first'\n",
    "})\n",
    "\n",
    "male_MD = df_gp['MD'][(df_gp.sex=='m')]\n",
    "female_MD = df_gp['MD'][(df_gp.sex=='f')]\n",
    "male_ET = df_gp['ET'][(df_gp.sex=='m')]\n",
    "female_ET = df_gp['ET'][(df_gp.sex=='f')]\n",
    "\n",
    "# t-test:\n",
    "res = ttest_ind(male_MD,female_MD, equal_var=True)\n",
    "print(f'MD, t={res.statistic:.2f}, p={res.pvalue:.2f}')\n",
    "\n",
    "res = ttest_ind(male_ET,female_ET, equal_var=True)\n",
    "print(f'ET, t={res.statistic:.2f}, p={res.pvalue:.2f}')\n"
   ]
  },
  {
   "cell_type": "markdown",
   "metadata": {},
   "source": [
    "### Experiment 2"
   ]
  },
  {
   "cell_type": "code",
   "execution_count": 371,
   "metadata": {},
   "outputs": [
    {
     "data": {
      "image/png": "[encoded data removed]",
      "text/plain": [
       "<Figure size 210.875x160 with 1 Axes>"
      ]
     },
     "metadata": {},
     "output_type": "display_data"
    },
    {
     "data": {
      "image/png": "[encoded data removed]",
      "text/plain": [
       "<Figure size 210.875x160 with 1 Axes>"
      ]
     },
     "metadata": {},
     "output_type": "display_data"
    }
   ],
   "source": [
    "# load the data:\n",
    "D = pd.read_table('/Users/alighavampour/Desktop/Projects/EFC_natChord/analysis/natChord_chord.tsv')\n",
    "D['MD'] = D['MD'].astype('float64')\n",
    "D['ET'] = D['MT'].astype('float64')/1000 + D['RT'].astype('float64')/1000\n",
    "\n",
    "sn_list = D.sn.unique()\n",
    "male = [1,2,3,4,6]\n",
    "female = [5,7,8,9,10]\n",
    "\n",
    "D['sex'] = np.where(D['sn'].isin(female), 'f', 'm')\n",
    "\n",
    "# distribution plot male vs female:\n",
    "plt.rcParams.update({\n",
    "    'font.size': 9,                 # Default text size\n",
    "    'axes.titlesize': 9,            # Title size\n",
    "    'axes.labelsize': 9,            # Axis label size\n",
    "    'xtick.labelsize': 8,           # X-tick label size\n",
    "    'ytick.labelsize': 8,           # Y-tick label size\n",
    "    'legend.fontsize': 8,           # Legend font size\n",
    "    'figure.titlesize': 9           # Figure title size\n",
    "})\n",
    "\n",
    "cmap = plt.get_cmap('Paired')\n",
    "sns.displot(data=D, x=\"MD\", hue=\"sex\", col='sess', kde=True, stat='percent', height=1.6, palette=[mcolors.to_hex(cmap(3)), mcolors.to_hex(cmap(9))])\n",
    "plt.xlabel('MD[N]')\n",
    "plt.savefig(f'/Users/alighavampour/Desktop/Projects/EFC1/figures/efc3_MD_mf.pdf')\n",
    "\n",
    "cmap = plt.get_cmap('Paired')\n",
    "sns.displot(data=D, x=\"ET\", hue=\"sex\", col='sess', kde=True, stat='percent', height=1.6, palette=[mcolors.to_hex(cmap(3)), mcolors.to_hex(cmap(9))])\n",
    "plt.xlabel('ET[s]')\n",
    "plt.savefig(f'/Users/alighavampour/Desktop/Projects/EFC1/figures/efc3_ET_mf.pdf')\n",
    "\n",
    "# average across chords:\n",
    "# df_gp = D.groupby(['sn','sess'], as_index=False).agg({\n",
    "#     'MD': 'mean',\n",
    "#     'ET': 'mean',\n",
    "#     'sex': 'first'\n",
    "# })\n",
    "# for sess in [1,2,3,4]:\n",
    "#     male_MD = df_gp['MD'][(df_gp.sess==sess) & (df_gp.sex=='m')]\n",
    "#     female_MD = df_gp['MD'][(df_gp.sess==sess) & (df_gp.sex=='f')]\n",
    "#     male_ET = df_gp['ET'][(df_gp.sess==sess) & (df_gp.sex=='m')]\n",
    "#     female_ET = df_gp['ET'][(df_gp.sess==sess) & (df_gp.sex=='f')]\n",
    "\n",
    "#     # t-test:\n",
    "#     res = ttest_ind(male_MD,female_MD, equal_var=True)\n",
    "#     print(f'MD, sess{sess}, t={res.statistic:.2f}, p={res.pvalue:.2f}')\n",
    "\n",
    "#     res = ttest_ind(male_ET,female_ET, equal_var=True)\n",
    "#     print(f'ET, sess{sess}, t={res.statistic:.2f}, p={res.pvalue:.2f}')\n"
   ]
  },
  {
   "cell_type": "markdown",
   "metadata": {},
   "source": [
    "## extension vs flexion difficulty"
   ]
  },
  {
   "cell_type": "markdown",
   "metadata": {},
   "source": [
    "### flex ext symmetry"
   ]
  },
  {
   "cell_type": "code",
   "execution_count": 46,
   "metadata": {},
   "outputs": [
    {
     "name": "stderr",
     "output_type": "stream",
     "text": [
      "/var/folders/5y/1pn48fgn7yb77gc17h_5jms80000gp/T/ipykernel_3787/3986536387.py:54: UserWarning: set_ticklabels() should only be used with a fixed number of ticks, i.e. after set_ticks() or using a FixedLocator.\n",
      "  ax.set_xticklabels(np.arange(32)+1)\n"
     ]
    },
    {
     "data": {
      "image/png": "[encoded data removed]",
      "text/plain": [
       "<Figure size 800x270 with 1 Axes>"
      ]
     },
     "metadata": {},
     "output_type": "display_data"
    }
   ],
   "source": [
    "# load the data:\n",
    "D = pd.read_table('/Users/alighavampour/Desktop/Projects/EFC1/analysis/efc1_chord.tsv')\n",
    "D = D[D.sess>=3]\n",
    "\n",
    "D['MD'] = D['MD'].astype('float64')\n",
    "D['ET'] = D['ET'].astype('float64')/1000\n",
    "\n",
    "# average across sessions:\n",
    "df_gp = D.groupby(['sn','chordID'], as_index=False).agg({\n",
    "    'MD': 'mean',\n",
    "    'ET': 'mean',\n",
    "})\n",
    "# compare symmetry flexion and extension:\n",
    "chords_unique = np.unique(df_gp['chordID'])\n",
    "ext_only = [chords_unique[i] for i, x in enumerate(chords_unique) if (set(str(x)) == {'1','9'} or set(str(x)) == {'1'})]\n",
    "ext_only = [19999, 91999, 99199, 99919, 99991,\n",
    "            11999, 19199, 19919, 19991, 91199, 91919, 91991, 99119, 99191, 99911,\n",
    "            11199, 11919, 11991, 19119, 19191, 19911, 91119, 91191, 91911, 99111,\n",
    "            11119, 11191, 11911, 19111, 91111,\n",
    "            11111]\n",
    "MD = []\n",
    "group = []\n",
    "flex_ext = []\n",
    "for i, chord in enumerate(ext_only):\n",
    "    tmp = df_gp[df_gp['chordID'] == chord]\n",
    "    MD.extend(tmp['MD'].values.flatten())\n",
    "    group.extend(np.repeat(i, len(tmp)))\n",
    "    flex_ext.extend(np.repeat('extension', len(tmp)))\n",
    "    \n",
    "    # flexion symmetry of chord:\n",
    "    chord_sym = int(str(chord).replace('1', '2'))\n",
    "    tmp = df_gp[df_gp['chordID'] == chord_sym]\n",
    "    MD.extend(tmp['MD'].values.flatten())\n",
    "    group.extend(np.repeat(i, len(tmp)))\n",
    "    flex_ext.extend(np.repeat('flexion', len(tmp)))\n",
    "\n",
    "\n",
    "# distribution plot male vs female:\n",
    "plt.rcParams.update({\n",
    "    'font.size': 9,                 # Default text size\n",
    "    'axes.titlesize': 9,            # Title size\n",
    "    'axes.labelsize': 9,            # Axis label size\n",
    "    'xtick.labelsize': 8,           # X-tick label size\n",
    "    'ytick.labelsize': 8,           # Y-tick label size\n",
    "    'legend.fontsize': 8,           # Legend font size\n",
    "    'figure.titlesize': 9           # Figure title size\n",
    "})\n",
    "\n",
    "fig, ax = plt.subplots(figsize=(8, 2.7))\n",
    "sns.boxplot(data=None, x=group, y=MD, hue=flex_ext, width=0.4, fliersize=0)\n",
    "\n",
    "plt.xlabel('chord')\n",
    "plt.ylim((-0.1,2.1))\n",
    "ax.set_xticklabels(np.arange(32)+1)\n",
    "ax.set_yticks([0, 0.5, 1, 1.5, 2])\n",
    "\n",
    "xlim = ax.get_xlim()\n",
    "ylim = ax.get_ylim()\n",
    "sns.despine(ax=ax)\n",
    "# Set the bounds of the remaining spines to match the data limits\n",
    "ax.spines['left'].set_bounds(0, 2)\n",
    "ax.spines['bottom'].set_bounds(0,30)\n",
    "plt.savefig('/Users/alighavampour/Desktop/Projects/EFC1/figures/efc1_MD_symmetry.pdf', bbox_inches='tight')"
   ]
  },
  {
   "cell_type": "markdown",
   "metadata": {},
   "source": [
    "## Testing chords improvement"
   ]
  },
  {
   "cell_type": "code",
   "execution_count": null,
   "metadata": {},
   "outputs": [
    {
     "name": "stdout",
     "output_type": "stream",
     "text": [
      "Chord 12129, t(7)=-0.16, p=0.88\n",
      "Chord 12291, t(7)=-1.49, p=0.19\n",
      "Chord 19111, t(7)=-1.24, p=0.26\n",
      "Chord 21291, t(7)=0.53, p=0.62\n",
      "Chord 22911, t(7)=-1.34, p=0.23\n",
      "Chord 29212, t(5)=0.50, p=0.64\n",
      "    -> Unsuccessful subjects: [np.int64(109), np.int64(110)]\n",
      "\n",
      "Chord 91211, t(7)=-0.71, p=0.50\n",
      "Chord 92122, t(6)=-0.13, p=0.90\n",
      "    -> Unsuccessful subjects: [np.int64(112)]\n",
      "\n"
     ]
    },
    {
     "data": {
      "image/png": "[encoded data removed]",
      "text/plain": [
       "<Figure size 450x200 with 1 Axes>"
      ]
     },
     "metadata": {},
     "output_type": "display_data"
    }
   ],
   "source": [
    "D = pd.read_csv('/Users/alighavampour/Desktop/Projects/EFC2/analysis/efc2_all.csv')\n",
    "D = D[D.trial_correct==1]\n",
    "D['ET'] = D['ET'].astype('float')/1000\n",
    "D['MD'] = D['MD'].astype('float64')\n",
    "\n",
    "chords1 = [29212, 92122, 91211, 22911]\n",
    "chords2 = [21291, 12129, 12291, 19111]\n",
    "\n",
    "chords = [29212, 92122, 91211, 22911, 21291, 12129, 12291, 19111]\n",
    "\n",
    "df = D[D.trained==0]\n",
    "day1_rows = (df.day==1) & (df.BN>=7)\n",
    "day5_rows = (df.day==5) & (df.BN<=2)\n",
    "df = df[day1_rows | day5_rows]\n",
    "df = df.groupby(['sn', 'chordID', 'day'], as_index=False).agg({\n",
    "    'MD': 'mean',\n",
    "    'ET': 'mean'\n",
    "})\n",
    "\n",
    "plt.rcParams.update({\n",
    "    'font.size': 9,                 # Default text size\n",
    "    'axes.titlesize': 9,            # Title size\n",
    "    'axes.labelsize': 9,            # Axis label size\n",
    "    'xtick.labelsize': 8,           # X-tick label size\n",
    "    'ytick.labelsize': 8,           # Y-tick label size\n",
    "    'legend.fontsize': 8,           # Legend font size\n",
    "    'figure.titlesize': 9           # Figure title size\n",
    "})\n",
    "fig, ax = plt.subplots(figsize=(4.5, 2))\n",
    "cmap = plt.get_cmap('Dark2')\n",
    "sns.boxplot(data=df, x='chordID', y='MD', hue='day', fliersize=0, width=0.5, palette=[mcolors.to_hex(cmap(0)), mcolors.to_hex(cmap(7))], legend=False)\n",
    "# sns.displot(data=df, x=\"MD\", hue=\"day\", col='chordID', kde=True, stat='count', height=1.7, aspect=1, palette=[mcolors.to_hex(cmap(0)), mcolors.to_hex(cmap(7))], legend=True)\n",
    "# plt.title(f'{chord}')\n",
    "# plt.xlabel('day')\n",
    "plt.ylim((-0.1,4))\n",
    "# ax.set_xticks()\n",
    "# ax.set_xticklabels([1,5])\n",
    "# ax.set_yticks([0, 2, 4, 6])\n",
    "\n",
    "sns.despine(ax=ax)\n",
    "# Set the bounds of the remaining spines to match the data limits\n",
    "ax.spines['left'].set_bounds(0, 4)\n",
    "ax.spines['bottom'].set_bounds(0,7)\n",
    "plt.savefig(f'/Users/alighavampour/Desktop/Projects/EFC1/figures/efc2_general.pdf', bbox_inches='tight')\n",
    "\n",
    "# t-test per chord:\n",
    "chords = df['chordID'].unique()\n",
    "for chord in chords:\n",
    "    # select the MD of chord day 1:\n",
    "    day1_MD = df['MD'][(df.chordID == chord) & (df.day == 1)].values.flatten()\n",
    "    # select the MD of chord day 5:\n",
    "    day5_MD = df['MD'][(df.chordID == chord) & (df.day == 5)].values.flatten()\n",
    "\n",
    "    # find which subjects were unsuccessful:\n",
    "    A = df['sn'][(df.chordID == chord) & (df.day == 1)].values.flatten()\n",
    "    B = df['sn'][(df.chordID == chord) & (df.day == 5)].values.flatten()\n",
    "    unsuccessful = list(set(A).symmetric_difference(set(B)))\n",
    "    \n",
    "    # remove the data of unsuccessful subjects from day1 and 5:\n",
    "    day1_MD = day1_MD[~np.isin(A, unsuccessful)]\n",
    "    day5_MD = day5_MD[~np.isin(B, unsuccessful)]\n",
    "\n",
    "    # t-test:\n",
    "    res = ttest_rel(day1_MD, day5_MD, alternative='two-sided')\n",
    "    print(f'Chord {chord}, t({len(day1_MD)})={res.statistic:.2f}, p={res.pvalue:.2f}')\n",
    "    if len(unsuccessful) != 0:\n",
    "        # print unsuccessful subjects:\n",
    "        print(f'    -> Unsuccessful subjects: {unsuccessful}\\n')"
   ]
  },
  {
   "cell_type": "markdown",
   "metadata": {},
   "source": [
    "## Add force patterns"
   ]
  },
  {
   "cell_type": "code",
   "execution_count": null,
   "metadata": {},
   "outputs": [],
   "source": [
    "import pandas as pd\n",
    "D = pd.read_table('./analysis/efc1_all.tsv')\n",
    "\n",
    "# BN: Block number \n",
    "# TN: Trial number\n",
    "# chordID: 2: flexion, 1: extension, 9: steady, thumb to pinky from left to right\n",
    "# trial_correct: 1: correct, 0: incorrect, incorrect means subejct could not form the chord in the given 10 seconds\n",
    "# sn: subject number\n",
    "# day: day of the experiment\n",
    "# ET: execution time, from go-cue to the moment chord is formed correctly. -1 for incorrect trials\n",
    "# MD: mean deviation, our synchrony measure in N. It is the synchrony of figner forces during the execution measured in the 5-dimenional force space.\n",
    "# num_fingers: number of pressed fingers in the chord. It's useful for some analyses.\n",
    "\n",
    "df = pd.DataFrame(columns=['sn', 'BN', 'TN', 'day', 'chordID', 'num_fingers', 'trial_correct', 'ET', 'MD'])\n",
    "df['sn'] = D['sn']\n",
    "df['BN'] = D['BN']\n",
    "df['TN'] = D['TN']\n",
    "df['day'] = D['sess']\n",
    "df['chordID'] = D['chordID']\n",
    "df['num_fingers'] = D['num_fingers']\n",
    "df['trial_correct'] = D['trialCorr']\n",
    "df['ET'] = D['ET']\n",
    "df.loc[df['ET'] == -2, 'ET'] = -1\n",
    "df['MD'] = D['MD']\n",
    "df['ET'] = df['ET'].astype('float64')\n",
    "df['MD'] = df['MD'].astype('float64')\n",
    "\n",
    "# save dataframe for Paul:\n",
    "df.to_csv('/Users/alighavampour/Desktop/Projects/EFC1/analysis/efc1_Paul.csv', index=False)\n",
    "\n",
    "df = pd.read_csv('/Users/alighavampour/Desktop/Projects/EFC1/analysis/efc1_Paul.csv')\n",
    "\n"
   ]
  }
 ],
 "metadata": {
  "kernelspec": {
   "display_name": "Python 3",
   "language": "python",
   "name": "python3"
  },
  "language_info": {
   "codemirror_mode": {
    "name": "ipython",
    "version": 3
   },
   "file_extension": ".py",
   "mimetype": "text/x-python",
   "name": "python",
   "nbconvert_exporter": "python",
   "pygments_lexer": "ipython3",
   "version": "3.11.11"
  }
 },
 "nbformat": 4,
 "nbformat_minor": 2
}
